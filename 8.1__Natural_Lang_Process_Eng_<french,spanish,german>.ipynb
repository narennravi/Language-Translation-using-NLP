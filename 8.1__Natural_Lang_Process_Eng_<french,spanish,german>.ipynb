{
  "nbformat": 4,
  "nbformat_minor": 0,
  "metadata": {
    "colab": {
      "private_outputs": true,
      "provenance": [],
      "authorship_tag": "ABX9TyO+i7r3xTg1iR+VOxDxHHn+",
      "include_colab_link": true
    },
    "kernelspec": {
      "name": "python3",
      "display_name": "Python 3"
    },
    "language_info": {
      "name": "python"
    },
    "accelerator": "GPU",
    "gpuClass": "standard"
  },
  "cells": [
    {
      "cell_type": "markdown",
      "metadata": {
        "id": "view-in-github",
        "colab_type": "text"
      },
      "source": [
        "<a href=\"https://colab.research.google.com/github/narennravi/Language_Conversion/blob/master/8.1__Natural_Lang_Process_Eng_%3Cfrench%2Cspanish%2Cgerman%3E.ipynb\" target=\"_parent\"><img src=\"https://colab.research.google.com/assets/colab-badge.svg\" alt=\"Open In Colab\"/></a>"
      ]
    },
    {
      "cell_type": "code",
      "source": [
        "# Natural language Processing"
      ],
      "metadata": {
        "id": "iP5h-G5NmO5L"
      },
      "execution_count": null,
      "outputs": []
    },
    {
      "cell_type": "markdown",
      "source": [
        "#-----------------------------------------------------------------------------"
      ],
      "metadata": {
        "id": "Nz98DpghmYor"
      }
    },
    {
      "cell_type": "markdown",
      "source": [
        "## **Importing CSV_file**"
      ],
      "metadata": {
        "id": "AOOvGB8cH0kI"
      }
    },
    {
      "cell_type": "code",
      "source": [
        "df = open(\"/content/English.csv\")\n",
        "text = df.read()\n",
        "print(type(text))\n",
        "print(len(text))"
      ],
      "metadata": {
        "id": "4vq1vNMJGcm5"
      },
      "execution_count": null,
      "outputs": []
    },
    {
      "cell_type": "markdown",
      "source": [
        "## **Importing Necessary Packages**"
      ],
      "metadata": {
        "id": "oKpMbRHtH687"
      }
    },
    {
      "cell_type": "code",
      "source": [
        "import nltk"
      ],
      "metadata": {
        "id": "0H5o6XBZGcpl"
      },
      "execution_count": null,
      "outputs": []
    },
    {
      "cell_type": "code",
      "source": [
        "nltk.download('punkt')\n",
        "nltk.download('wordnet')\n",
        "nltk.download('stopwords')\n",
        "nltk.download('averaged_perceptron_tagger')"
      ],
      "metadata": {
        "id": "qF7ZaQFuGctB"
      },
      "execution_count": null,
      "outputs": []
    },
    {
      "cell_type": "code",
      "source": [
        "!pip install translate"
      ],
      "metadata": {
        "id": "9t5Ps9cuG1IJ"
      },
      "execution_count": null,
      "outputs": []
    },
    {
      "cell_type": "markdown",
      "source": [
        "#-----------------------------------------------------------------------------"
      ],
      "metadata": {
        "id": "unXfAKHpmfwU"
      }
    },
    {
      "cell_type": "markdown",
      "source": [
        "## **TASK - 1**"
      ],
      "metadata": {
        "id": "wmNLBJKBG7yT"
      }
    },
    {
      "cell_type": "markdown",
      "source": [
        "### You need to translate each word or sentence from English to Spanish, French and German"
      ],
      "metadata": {
        "id": "72GUMlRmjPjn"
      }
    },
    {
      "cell_type": "markdown",
      "source": [
        ">### 1. Sentence Tokenization"
      ],
      "metadata": {
        "id": "IhOfXMP_ORzX"
      }
    },
    {
      "cell_type": "code",
      "source": [
        "sentences = nltk.sent_tokenize(text)"
      ],
      "metadata": {
        "id": "tq4ZIzH9G06v"
      },
      "execution_count": null,
      "outputs": []
    },
    {
      "cell_type": "code",
      "source": [
        "sen = []\n",
        "\n",
        "for sentence in sentences:\n",
        "    sen.append(sentence)"
      ],
      "metadata": {
        "id": "23cJHBY4G03S"
      },
      "execution_count": null,
      "outputs": []
    },
    {
      "cell_type": "code",
      "source": [
        "print(sen[:10],len(sen))"
      ],
      "metadata": {
        "id": "zbdyYdG-G00o"
      },
      "execution_count": null,
      "outputs": []
    },
    {
      "cell_type": "markdown",
      "source": [
        ">### 2. Word Tokenization"
      ],
      "metadata": {
        "id": "1OLeQC5QOZr8"
      }
    },
    {
      "cell_type": "code",
      "source": [
        "words = nltk.word_tokenize(sentence)"
      ],
      "metadata": {
        "id": "knxBP1crNmVO"
      },
      "execution_count": null,
      "outputs": []
    },
    {
      "cell_type": "code",
      "source": [
        "wrd = []\n",
        "\n",
        "for sentence in sentences: \n",
        "    wrd.append(words)"
      ],
      "metadata": {
        "id": "BYE9uP-9G0xn"
      },
      "execution_count": null,
      "outputs": []
    },
    {
      "cell_type": "code",
      "source": [
        "print(wrd[:5],len(wrd))"
      ],
      "metadata": {
        "id": "ZZGJqDLuG0uh"
      },
      "execution_count": null,
      "outputs": []
    },
    {
      "cell_type": "markdown",
      "source": [
        "## **Removing \"Stop_words\"**"
      ],
      "metadata": {
        "id": "VSP-KUUEOyb0"
      }
    },
    {
      "cell_type": "code",
      "source": [
        "from nltk.corpus import stopwords\n",
        "import os"
      ],
      "metadata": {
        "id": "8LEf79PMOl2F"
      },
      "execution_count": null,
      "outputs": []
    },
    {
      "cell_type": "code",
      "source": [
        "stop_words = set(stopwords.words(\"english\"))\n",
        "stop_words = list(stop_words)"
      ],
      "metadata": {
        "id": "n4t2BHkTOly3"
      },
      "execution_count": null,
      "outputs": []
    },
    {
      "cell_type": "markdown",
      "source": [
        "##**Removing \"Punctuation\"**"
      ],
      "metadata": {
        "id": "l8PwNCJeO6lS"
      }
    },
    {
      "cell_type": "code",
      "source": [
        "from nltk.tokenize import RegexpTokenizer\n",
        "tokenizer = RegexpTokenizer('\\w+')\n",
        "\n",
        "punc = []\n",
        "for i in sen:\n",
        "    i = i.lower()\n",
        "    P = tokenizer.tokenize(i)\n",
        "    punc.extend((P))\n"
      ],
      "metadata": {
        "id": "Kj8HXOh1PJr8"
      },
      "execution_count": null,
      "outputs": []
    },
    {
      "cell_type": "code",
      "source": [
        "punc_1 = list(set(punc))\n",
        "len(sen),len(punc),punc[:2],len(punc_1)"
      ],
      "metadata": {
        "id": "zH-MDedLPJof"
      },
      "execution_count": null,
      "outputs": []
    },
    {
      "cell_type": "code",
      "source": [
        "no_punct = []\n",
        "\n",
        "for i in punc_1:\n",
        "    if i not in stop_words:\n",
        "        no_punct.append(i)\n",
        "\n",
        "print(no_punct[:5],len(no_punct))"
      ],
      "metadata": {
        "id": "tgZb4xGpQHTh"
      },
      "execution_count": null,
      "outputs": []
    },
    {
      "cell_type": "markdown",
      "source": [
        "## **Stemming & Lemmatization**"
      ],
      "metadata": {
        "id": "ebh3w6hBQgeG"
      }
    },
    {
      "cell_type": "code",
      "source": [
        "import nltk\n",
        "nltk.download('omw-1.4')"
      ],
      "metadata": {
        "id": "IupvH7OHRPIf"
      },
      "execution_count": null,
      "outputs": []
    },
    {
      "cell_type": "code",
      "source": [
        "from nltk.stem import PorterStemmer, WordNetLemmatizer\n",
        "from nltk.corpus import wordnet"
      ],
      "metadata": {
        "id": "gRlNYkDTQmJb"
      },
      "execution_count": null,
      "outputs": []
    },
    {
      "cell_type": "code",
      "source": [
        "lemma = []\n",
        "def compare_stemmer_and_lemmatizer(stemmer, lemmatizer, word, pos):\n",
        "    l = lemmatizer.lemmatize(word, pos)\n",
        "    lemma.append(l)\n",
        "    \n",
        "lemmatizer = WordNetLemmatizer()\n",
        "stemmer = PorterStemmer()\n",
        "for i in no_punct:\n",
        "    compare_stemmer_and_lemmatizer(stemmer, lemmatizer, word = i, pos = wordnet.VERB)\n",
        "    "
      ],
      "metadata": {
        "id": "nnrZisK_Qmry"
      },
      "execution_count": null,
      "outputs": []
    },
    {
      "cell_type": "code",
      "source": [
        "lemma[:10], len(lemma)"
      ],
      "metadata": {
        "id": "5cLqKMUBRUak"
      },
      "execution_count": null,
      "outputs": []
    },
    {
      "cell_type": "markdown",
      "source": [
        "## **No Punctuation Sentences**"
      ],
      "metadata": {
        "id": "J6UKsm_MRf13"
      }
    },
    {
      "cell_type": "code",
      "source": [
        "import re"
      ],
      "metadata": {
        "id": "XcaahnEXRfV-"
      },
      "execution_count": null,
      "outputs": []
    },
    {
      "cell_type": "code",
      "source": [
        "sentence_no_punct = []\n",
        "\n",
        "for wrd in set(sen):\n",
        "    text = wrd\n",
        "    text = re.sub(r\"(@\\[A-Za-z0-9]+)|([^0-9A-Za-z \\t])|(w+:\\/\\/\\S+)|^rt|http.+?\",\"\", text)\n",
        "    sentence_no_punct.append(text.lower())\n",
        "    \n",
        "print(sentence_no_punct[:10])\n",
        "print(len(sentence_no_punct))"
      ],
      "metadata": {
        "id": "1vY89XxURuOs"
      },
      "execution_count": null,
      "outputs": []
    },
    {
      "cell_type": "code",
      "source": [
        "len(set(sentence_no_punct)), len(sentence_no_punct)"
      ],
      "metadata": {
        "id": "p83_SBMLSEn2"
      },
      "execution_count": null,
      "outputs": []
    },
    {
      "cell_type": "markdown",
      "source": [
        "#-----------------------------------------------------------------------------"
      ],
      "metadata": {
        "id": "dMMz-4I4mvi3"
      }
    },
    {
      "cell_type": "markdown",
      "source": [
        "## **TRANSLATION - Process**"
      ],
      "metadata": {
        "id": "Tne0kdkQSchV"
      }
    },
    {
      "cell_type": "markdown",
      "source": [
        ">>## 1.Translating from English ----> French"
      ],
      "metadata": {
        "id": "EwqshfsLSTHN"
      }
    },
    {
      "cell_type": "code",
      "source": [
        "S = [set(sentence_no_punct)]\n",
        "sen = []\n",
        "for i in S:\n",
        "    for j in i:\n",
        "        sen.append(j)"
      ],
      "metadata": {
        "id": "Pq-q28KudcrP"
      },
      "execution_count": null,
      "outputs": []
    },
    {
      "cell_type": "code",
      "source": [
        "# French conversion \n",
        "from translate import Translator\n",
        "\n",
        "french = []\n",
        "for i in sen[:50]:\n",
        "    wrd = i\n",
        "    translator = Translator(to_lang=\"french\") #translating lang in french format\n",
        "    translation = translator.translate(wrd)\n",
        "    french.append(translation)"
      ],
      "metadata": {
        "id": "HLtreuQOdcjc"
      },
      "execution_count": null,
      "outputs": []
    },
    {
      "cell_type": "code",
      "source": [
        "for a,b in zip(sen[:10], french[:10]):\n",
        "    print(f\"English Sentence:{a}\")\n",
        "    print(f\"French Sentence:{b}\")\n",
        "    print()\n",
        "\n",
        "# English sentence stored in a\n",
        "# French conversion stored in b"
      ],
      "metadata": {
        "id": "ts4beOuVfIM8"
      },
      "execution_count": null,
      "outputs": []
    },
    {
      "cell_type": "markdown",
      "source": [
        "#-----------------------------------------------------------------------------"
      ],
      "metadata": {
        "id": "O9VYh_obmnLZ"
      }
    },
    {
      "cell_type": "markdown",
      "source": [
        ">>## 2.Translating from English ----> Spanish"
      ],
      "metadata": {
        "id": "znWUhMLEgfAi"
      }
    },
    {
      "cell_type": "code",
      "source": [
        "# Spanish Conversion\n",
        "from translate import Translator\n",
        "\n",
        "spanish=[]\n",
        "for i in sen[:50]:\n",
        "    translator= Translator(to_lang=\"spanish\") #translating lang in spanish format\n",
        "    wrd = i\n",
        "    translation = translator.translate(wrd)\n",
        "    spanish.append(translation)"
      ],
      "metadata": {
        "id": "bV2Tt_y8gi8j"
      },
      "execution_count": null,
      "outputs": []
    },
    {
      "cell_type": "code",
      "source": [
        "for a,b in zip(sen[:10], spanish[:10]):\n",
        "    print(f\"English Sentence:{a}\")\n",
        "    print(f\"Spanish Sentence:{b}\")\n",
        "    print()\n",
        "\n",
        "# English sentence stored in a\n",
        "# Spanish conversion stored in b"
      ],
      "metadata": {
        "id": "vAY4XO-agx0y"
      },
      "execution_count": null,
      "outputs": []
    },
    {
      "cell_type": "markdown",
      "source": [
        "#-----------------------------------------------------------------------------"
      ],
      "metadata": {
        "id": "0aa2FtoRmofv"
      }
    },
    {
      "cell_type": "markdown",
      "source": [
        ">>## 3.Translating from English ----> German"
      ],
      "metadata": {
        "id": "zZ473t1HiBCJ"
      }
    },
    {
      "cell_type": "code",
      "source": [
        "# German Conversion\n",
        "from translate import Translator\n",
        "\n",
        "german = []\n",
        "for i in sen[:50]:\n",
        "    translator= Translator(to_lang=\"german\") #translating lang in german format\n",
        "    wrd = i\n",
        "    translation = translator.translate(wrd)\n",
        "    german.append(translation)"
      ],
      "metadata": {
        "id": "Jws7a3PxiOEL"
      },
      "execution_count": null,
      "outputs": []
    },
    {
      "cell_type": "code",
      "source": [
        "for a,b in zip(sen[:10], german[:10]):\n",
        "    print(f\"English Sentence:{a}\")\n",
        "    print(f\"German Sentence:{b}\")\n",
        "    print()\n",
        "\n",
        "# English sentence stored in a\n",
        "# German conversion stored in b"
      ],
      "metadata": {
        "id": "4ouyvfsMiOiq"
      },
      "execution_count": null,
      "outputs": []
    },
    {
      "cell_type": "markdown",
      "source": [
        "#-----------------------------------------------------------------------------"
      ],
      "metadata": {
        "id": "MaQ-pv4imp4Z"
      }
    },
    {
      "cell_type": "markdown",
      "source": [
        "# **TASK - 2**"
      ],
      "metadata": {
        "id": "tg12wyF_jJiz"
      }
    },
    {
      "cell_type": "markdown",
      "source": [
        "### Create a program that needs to automatically correct that spelling from the word or a given sentence. (Language : English) \n",
        "  \n",
        ">###   NOTE:-\n",
        "\n",
        ">>show 100 data point outputs both in words and sentence. \n"
      ],
      "metadata": {
        "id": "c9thwMSojf74"
      }
    },
    {
      "cell_type": "code",
      "source": [
        "from nltk.stem import PorterStemmer, WordNetLemmatizer\n",
        "from nltk.corpus import wordnet"
      ],
      "metadata": {
        "id": "u1SHJL4fjI8B"
      },
      "execution_count": null,
      "outputs": []
    },
    {
      "cell_type": "code",
      "source": [
        "words=[]\n",
        "def compare_stemmer_and_lemmatizer(lemmatizer, word, pos):\n",
        "    l=lemmatizer.lemmatize(word, pos)\n",
        "    words.append(l)\n",
        "\n",
        "lemmatizer = WordNetLemmatizer()\n",
        "for i in no_punct:\n",
        "    compare_stemmer_and_lemmatizer(lemmatizer, word = i, pos = wordnet.VERB)"
      ],
      "metadata": {
        "id": "OuOSiQjpkMC6"
      },
      "execution_count": null,
      "outputs": []
    },
    {
      "cell_type": "code",
      "source": [
        "words[:101]"
      ],
      "metadata": {
        "id": "oYhzczFlkPxl"
      },
      "execution_count": null,
      "outputs": []
    },
    {
      "cell_type": "markdown",
      "source": [
        "#-----------------------------------------------------------------------------"
      ],
      "metadata": {
        "id": "Nsic1EUjmsWV"
      }
    }
  ]
}